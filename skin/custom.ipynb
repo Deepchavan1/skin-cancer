{
 "cells": [
  {
   "cell_type": "code",
   "execution_count": 1,
   "id": "cf693451",
   "metadata": {},
   "outputs": [],
   "source": [
    "import cv2\n",
    "import os\n",
    "import numpy as np\n",
    "import matplotlib.pyplot as plt\n",
    "import random \n",
    "import tensorflow as tf\n",
    "from PIL import Image\n",
    "from sklearn.preprocessing import OneHotEncoder \n",
    "\n",
    "\n",
    "DIRECTORY = 'skindata'\n",
    "CATEGORIES = ['akiec', 'bcc', 'bkl', 'df', 'mel', 'nv', 'vasc']\n",
    "\n",
    "IMG_SIZE = 100\n",
    "\n",
    "data = []\n",
    "label = []\n",
    "result = []\n",
    "\n",
    "for category in CATEGORIES:\n",
    "    path = os.path.join(DIRECTORY, category)\n",
    "    for img in os.listdir(path):\n",
    "        img_path = os.path.join(path, img)\n",
    "        label = CATEGORIES.index(category)\n",
    "        img = Image.open(img_path)\n",
    "        img = img.resize((IMG_SIZE,IMG_SIZE))\n",
    "        img = np.array(img)\n",
    "        if(img.shape == (IMG_SIZE,IMG_SIZE,3)):\n",
    "            data.append([np.array(img), label])"
   ]
  },
  {
   "cell_type": "code",
   "execution_count": 2,
   "id": "f5d8de55",
   "metadata": {},
   "outputs": [],
   "source": [
    "data[0][0].shape\n",
    "random.shuffle(data)"
   ]
  },
  {
   "cell_type": "code",
   "execution_count": 3,
   "id": "c5ccbc32",
   "metadata": {},
   "outputs": [
    {
     "data": {
      "text/plain": [
       "(5040, 100, 100, 3)"
      ]
     },
     "execution_count": 3,
     "metadata": {},
     "output_type": "execute_result"
    }
   ],
   "source": [
    "X = []\n",
    "y = []\n",
    "\n",
    "for features, labels in data:\n",
    "    X.append(features)\n",
    "    y.append(labels)\n",
    "\n",
    "X = np.array(X)\n",
    "y = np.array(y)\n",
    "X.shape"
   ]
  },
  {
   "cell_type": "code",
   "execution_count": 4,
   "id": "c7b7b3e0",
   "metadata": {},
   "outputs": [],
   "source": [
    "X_cont = []\n",
    "for i in range (5040):\n",
    "    X_cont.append(cv2.addWeighted(X[i], .75, np.zeros(img.shape, img.dtype), 0, 0))\n",
    "\n",
    "X_count = np.array(X_cont)\n",
    "X_count.shape\n",
    "X_count = X_count/255\n",
    "\n",
    "# 1.35 = 59\n",
    "# 1.25 = 68\n",
    "# 1.15 = 70\n",
    "# 0.75 = 71\n",
    "# 0.75 = 72.5 ..... 5 hidden layers\n",
    "# 0.75 = 71.73 & 88 ..... 5 hidden layers\n",
    "# Increase epochs and the hidden layer\n",
    "# 0.70 = 63"
   ]
  },
  {
   "cell_type": "code",
   "execution_count": 5,
   "id": "09d9458c",
   "metadata": {},
   "outputs": [
    {
     "data": {
      "text/plain": [
       "(4032, 100, 100, 3)"
      ]
     },
     "execution_count": 5,
     "metadata": {},
     "output_type": "execute_result"
    }
   ],
   "source": [
    "from sklearn.model_selection import train_test_split\n",
    "\n",
    "X_train, X_test, y_train, y_test = train_test_split(X_cont, y, test_size = 0.2, stratify=y, random_state=1)\n",
    "X_train = np.array(X_train)\n",
    "X_train.shape"
   ]
  },
  {
   "cell_type": "code",
   "execution_count": 6,
   "id": "b69f62fa",
   "metadata": {},
   "outputs": [],
   "source": [
    "import tensorflow as tf\n",
    "from keras.layers import Dense, Flatten, Activation, Dropout\n",
    "from tensorflow.keras import datasets, layers, models\n",
    "from keras.layers import LeakyReLU\n",
    "from tensorflow.keras.layers import BatchNormalization\n",
    "\n",
    "cnn = models.Sequential()\n",
    "\n",
    "cnn.add(layers.Conv2D(64,kernel_size=(3, 3), activation='relu', input_shape=(IMG_SIZE,IMG_SIZE,3)))\n",
    "cnn.add(layers.MaxPooling2D((2, 2)))\n",
    "# cnn.add(Dropout(0.25))\n",
    "# cnn.add(BatchNormalization(0.7))\n",
    "trainable = False\n",
    "\n",
    "cnn.add(layers.Conv2D(128, kernel_size=(3, 3), activation='relu'))\n",
    "cnn.add(layers.MaxPooling2D(pool_size=(2, 2)))\n",
    "cnn.add(Dropout(0.25))\n",
    "# cnn.add(BatchNormalization(0.8))\n",
    "\n",
    "cnn.add(layers.Conv2D(256, kernel_size=(3, 3), activation='relu'))\n",
    "cnn.add(layers.MaxPooling2D(pool_size=(2, 2)))\n",
    "cnn.add(Dropout(0.3))\n",
    "cnn.add(BatchNormalization())\n",
    "\n",
    "cnn.add(layers.Conv2D(512, kernel_size=(3, 3), activation='relu'))\n",
    "cnn.add(layers.MaxPooling2D(pool_size=(2, 2)))\n",
    "cnn.add(Dropout(0.3))\n",
    "cnn.add(BatchNormalization())\n",
    "\n",
    "cnn.add(layers.Conv2D(256, kernel_size=(3, 3), activation='relu'))\n",
    "cnn.add(layers.MaxPooling2D(pool_size=(2, 2)))\n",
    "cnn.add(Dropout(0.3))\n",
    "cnn.add(BatchNormalization())\n",
    "\n",
    "cnn.add(layers.Conv2D(128, kernel_size=(1, 1), activation='relu'))\n",
    "cnn.add(layers.MaxPooling2D(pool_size=(1, 1)))\n",
    "cnn.add(Dropout(0.25))\n",
    "cnn.add(BatchNormalization())\n",
    "\n",
    "cnn.add(Flatten())\n",
    "cnn.add(Dense(7, activation='softmax'))\n",
    "\n",
    "cnn.compile(loss='sparse_categorical_crossentropy',optimizer='adam',metrics=['accuracy'])"
   ]
  },
  {
   "cell_type": "code",
   "execution_count": 7,
   "id": "1f732a8f",
   "metadata": {},
   "outputs": [
    {
     "name": "stdout",
     "output_type": "stream",
     "text": [
      "Epoch 1/10\n",
      "114/114 [==============================] - 17s 130ms/step - loss: 2.0191 - accuracy: 0.2514 - val_loss: 1.6211 - val_accuracy: 0.3168\n",
      "Epoch 2/10\n",
      "114/114 [==============================] - 14s 123ms/step - loss: 1.6466 - accuracy: 0.3564 - val_loss: 1.6597 - val_accuracy: 0.3317\n",
      "Epoch 3/10\n",
      "114/114 [==============================] - 14s 120ms/step - loss: 1.5047 - accuracy: 0.4044 - val_loss: 1.4299 - val_accuracy: 0.3936\n",
      "Epoch 4/10\n",
      "114/114 [==============================] - 13s 116ms/step - loss: 1.4287 - accuracy: 0.4333 - val_loss: 1.2945 - val_accuracy: 0.4505\n",
      "Epoch 5/10\n",
      "114/114 [==============================] - 14s 120ms/step - loss: 1.3675 - accuracy: 0.4584 - val_loss: 1.5935 - val_accuracy: 0.3589\n",
      "Epoch 6/10\n",
      "114/114 [==============================] - 15s 128ms/step - loss: 1.2961 - accuracy: 0.4777 - val_loss: 2.2098 - val_accuracy: 0.3515\n",
      "Epoch 7/10\n",
      "114/114 [==============================] - 15s 132ms/step - loss: 1.2305 - accuracy: 0.5105 - val_loss: 1.3207 - val_accuracy: 0.4752\n",
      "Epoch 8/10\n",
      "114/114 [==============================] - 16s 140ms/step - loss: 1.1599 - accuracy: 0.5535 - val_loss: 1.2983 - val_accuracy: 0.4604\n",
      "Epoch 9/10\n",
      "114/114 [==============================] - 15s 130ms/step - loss: 1.1113 - accuracy: 0.5673 - val_loss: 1.4887 - val_accuracy: 0.4307\n",
      "Epoch 10/10\n",
      "114/114 [==============================] - 14s 123ms/step - loss: 1.0634 - accuracy: 0.5893 - val_loss: 1.0660 - val_accuracy: 0.5693\n",
      "Epoch 1/10\n",
      "114/114 [==============================] - 15s 130ms/step - loss: 1.0364 - accuracy: 0.6001 - val_loss: 1.0715 - val_accuracy: 0.5421\n",
      "Epoch 2/10\n",
      "114/114 [==============================] - 14s 125ms/step - loss: 0.9718 - accuracy: 0.6329 - val_loss: 0.9470 - val_accuracy: 0.6460\n",
      "Epoch 3/10\n",
      "114/114 [==============================] - 16s 138ms/step - loss: 0.9431 - accuracy: 0.6362 - val_loss: 3.6954 - val_accuracy: 0.1906\n",
      "Epoch 4/10\n",
      "114/114 [==============================] - 14s 124ms/step - loss: 0.9767 - accuracy: 0.6180 - val_loss: 1.3813 - val_accuracy: 0.5347\n",
      "Epoch 5/10\n",
      "114/114 [==============================] - 14s 126ms/step - loss: 0.9018 - accuracy: 0.6659 - val_loss: 1.2991 - val_accuracy: 0.4777\n",
      "Epoch 6/10\n",
      "114/114 [==============================] - 14s 126ms/step - loss: 0.8517 - accuracy: 0.6761 - val_loss: 1.3224 - val_accuracy: 0.5446\n",
      "Epoch 7/10\n",
      "114/114 [==============================] - 15s 130ms/step - loss: 0.8258 - accuracy: 0.6825 - val_loss: 0.9012 - val_accuracy: 0.6584\n",
      "Epoch 8/10\n",
      "114/114 [==============================] - 14s 126ms/step - loss: 0.7698 - accuracy: 0.7040 - val_loss: 1.0911 - val_accuracy: 0.5767\n",
      "Epoch 9/10\n",
      "114/114 [==============================] - 14s 121ms/step - loss: 0.7344 - accuracy: 0.7279 - val_loss: 0.9237 - val_accuracy: 0.6287\n",
      "Epoch 10/10\n",
      "114/114 [==============================] - 14s 120ms/step - loss: 0.7052 - accuracy: 0.7310 - val_loss: 1.0420 - val_accuracy: 0.6114\n",
      "Epoch 1/10\n",
      "114/114 [==============================] - 16s 139ms/step - loss: 0.6804 - accuracy: 0.7465 - val_loss: 0.6126 - val_accuracy: 0.7891\n",
      "Epoch 2/10\n",
      "114/114 [==============================] - 14s 120ms/step - loss: 0.6657 - accuracy: 0.7556 - val_loss: 0.7033 - val_accuracy: 0.7295\n",
      "Epoch 3/10\n",
      "114/114 [==============================] - 14s 125ms/step - loss: 0.5936 - accuracy: 0.7840 - val_loss: 0.7579 - val_accuracy: 0.6898\n",
      "Epoch 4/10\n",
      "114/114 [==============================] - 13s 115ms/step - loss: 0.6341 - accuracy: 0.7608 - val_loss: 0.5645 - val_accuracy: 0.7916\n",
      "Epoch 5/10\n",
      "114/114 [==============================] - 13s 115ms/step - loss: 0.5607 - accuracy: 0.7933 - val_loss: 0.6080 - val_accuracy: 0.7717\n",
      "Epoch 6/10\n",
      "114/114 [==============================] - 13s 116ms/step - loss: 0.5032 - accuracy: 0.8206 - val_loss: 0.6800 - val_accuracy: 0.7295\n",
      "Epoch 7/10\n",
      "114/114 [==============================] - 14s 124ms/step - loss: 0.4723 - accuracy: 0.8212 - val_loss: 0.6208 - val_accuracy: 0.7469\n",
      "Epoch 8/10\n",
      "114/114 [==============================] - 14s 125ms/step - loss: 0.4866 - accuracy: 0.8234 - val_loss: 1.1193 - val_accuracy: 0.6055\n",
      "Epoch 9/10\n",
      "114/114 [==============================] - 14s 125ms/step - loss: 0.4228 - accuracy: 0.8479 - val_loss: 0.6727 - val_accuracy: 0.7320\n",
      "Epoch 10/10\n",
      "114/114 [==============================] - 13s 118ms/step - loss: 0.3885 - accuracy: 0.8630 - val_loss: 0.7146 - val_accuracy: 0.7122\n",
      "Epoch 1/10\n",
      "114/114 [==============================] - 13s 117ms/step - loss: 0.4105 - accuracy: 0.8526 - val_loss: 0.4850 - val_accuracy: 0.8040\n",
      "Epoch 2/10\n",
      "114/114 [==============================] - 15s 128ms/step - loss: 0.3819 - accuracy: 0.8573 - val_loss: 0.3148 - val_accuracy: 0.8859\n",
      "Epoch 3/10\n",
      "114/114 [==============================] - 14s 126ms/step - loss: 0.3418 - accuracy: 0.8779 - val_loss: 0.3224 - val_accuracy: 0.8734\n",
      "Epoch 4/10\n",
      "114/114 [==============================] - 14s 127ms/step - loss: 0.3058 - accuracy: 0.8848 - val_loss: 0.3814 - val_accuracy: 0.8536\n",
      "Epoch 5/10\n",
      "114/114 [==============================] - 15s 128ms/step - loss: 0.2851 - accuracy: 0.8975 - val_loss: 0.4775 - val_accuracy: 0.8337\n",
      "Epoch 6/10\n",
      "114/114 [==============================] - 14s 120ms/step - loss: 0.2640 - accuracy: 0.9027 - val_loss: 0.3989 - val_accuracy: 0.8387\n",
      "Epoch 7/10\n",
      "114/114 [==============================] - 14s 119ms/step - loss: 0.2258 - accuracy: 0.9201 - val_loss: 0.3962 - val_accuracy: 0.8486\n",
      "Epoch 8/10\n",
      "114/114 [==============================] - 14s 120ms/step - loss: 0.2088 - accuracy: 0.9242 - val_loss: 0.3533 - val_accuracy: 0.8561\n",
      "Epoch 9/10\n",
      "114/114 [==============================] - 14s 121ms/step - loss: 0.2071 - accuracy: 0.9278 - val_loss: 0.4963 - val_accuracy: 0.7940\n",
      "Epoch 10/10\n",
      "114/114 [==============================] - 15s 129ms/step - loss: 0.1811 - accuracy: 0.9374 - val_loss: 0.3904 - val_accuracy: 0.8486\n",
      "Epoch 1/10\n",
      "114/114 [==============================] - 14s 124ms/step - loss: 0.2310 - accuracy: 0.9215 - val_loss: 0.2278 - val_accuracy: 0.9181\n",
      "Epoch 2/10\n",
      "114/114 [==============================] - 14s 120ms/step - loss: 0.2034 - accuracy: 0.9292 - val_loss: 0.1139 - val_accuracy: 0.9653\n",
      "Epoch 3/10\n",
      "114/114 [==============================] - 13s 118ms/step - loss: 0.1944 - accuracy: 0.9314 - val_loss: 0.1944 - val_accuracy: 0.9181\n",
      "Epoch 4/10\n",
      "114/114 [==============================] - 13s 118ms/step - loss: 0.1943 - accuracy: 0.9317 - val_loss: 0.3522 - val_accuracy: 0.8660\n",
      "Epoch 5/10\n",
      "114/114 [==============================] - 14s 119ms/step - loss: 0.1652 - accuracy: 0.9363 - val_loss: 0.2741 - val_accuracy: 0.9007\n",
      "Epoch 6/10\n",
      "114/114 [==============================] - 14s 119ms/step - loss: 0.1611 - accuracy: 0.9410 - val_loss: 0.2070 - val_accuracy: 0.9256\n",
      "Epoch 7/10\n",
      "114/114 [==============================] - 14s 120ms/step - loss: 0.1498 - accuracy: 0.9476 - val_loss: 0.3262 - val_accuracy: 0.8784\n",
      "Epoch 8/10\n",
      "114/114 [==============================] - 14s 119ms/step - loss: 0.1325 - accuracy: 0.9551 - val_loss: 0.2178 - val_accuracy: 0.9206\n",
      "Epoch 9/10\n",
      "114/114 [==============================] - 14s 120ms/step - loss: 0.1412 - accuracy: 0.9512 - val_loss: 0.1914 - val_accuracy: 0.9231\n",
      "Epoch 10/10\n",
      "114/114 [==============================] - 14s 121ms/step - loss: 0.1005 - accuracy: 0.9678 - val_loss: 0.2181 - val_accuracy: 0.9305\n",
      "Epoch 1/10\n",
      "114/114 [==============================] - 14s 122ms/step - loss: 0.1430 - accuracy: 0.9487 - val_loss: 0.1082 - val_accuracy: 0.9628\n",
      "Epoch 2/10\n",
      "114/114 [==============================] - 14s 125ms/step - loss: 0.1249 - accuracy: 0.9551 - val_loss: 0.2440 - val_accuracy: 0.9082\n",
      "Epoch 3/10\n",
      "114/114 [==============================] - 14s 121ms/step - loss: 0.1260 - accuracy: 0.9565 - val_loss: 0.0557 - val_accuracy: 0.9851\n",
      "Epoch 4/10\n",
      "114/114 [==============================] - 14s 120ms/step - loss: 0.1462 - accuracy: 0.9468 - val_loss: 0.1224 - val_accuracy: 0.9677\n",
      "Epoch 5/10\n",
      "114/114 [==============================] - 14s 122ms/step - loss: 0.1419 - accuracy: 0.9518 - val_loss: 0.3451 - val_accuracy: 0.8734\n",
      "Epoch 6/10\n",
      "114/114 [==============================] - 14s 119ms/step - loss: 0.1232 - accuracy: 0.9559 - val_loss: 0.2342 - val_accuracy: 0.8933\n",
      "Epoch 7/10\n",
      "114/114 [==============================] - 14s 119ms/step - loss: 0.1091 - accuracy: 0.9614 - val_loss: 0.1082 - val_accuracy: 0.9653\n",
      "Epoch 8/10\n",
      "114/114 [==============================] - 14s 120ms/step - loss: 0.1068 - accuracy: 0.9636 - val_loss: 0.4229 - val_accuracy: 0.8511\n",
      "Epoch 9/10\n",
      "114/114 [==============================] - 14s 119ms/step - loss: 0.0961 - accuracy: 0.9653 - val_loss: 0.3542 - val_accuracy: 0.8536\n",
      "Epoch 10/10\n",
      "114/114 [==============================] - 15s 129ms/step - loss: 0.0984 - accuracy: 0.9664 - val_loss: 0.2009 - val_accuracy: 0.9280\n",
      "Epoch 1/10\n",
      "114/114 [==============================] - 14s 118ms/step - loss: 0.1113 - accuracy: 0.9639 - val_loss: 0.1980 - val_accuracy: 0.9330\n",
      "Epoch 2/10\n",
      "114/114 [==============================] - 14s 121ms/step - loss: 0.1122 - accuracy: 0.9581 - val_loss: 0.0593 - val_accuracy: 0.9801\n",
      "Epoch 3/10\n",
      "114/114 [==============================] - 14s 119ms/step - loss: 0.1022 - accuracy: 0.9642 - val_loss: 0.2077 - val_accuracy: 0.9206\n",
      "Epoch 4/10\n",
      "114/114 [==============================] - 14s 119ms/step - loss: 0.0982 - accuracy: 0.9672 - val_loss: 0.0687 - val_accuracy: 0.9752\n",
      "Epoch 5/10\n",
      "114/114 [==============================] - 14s 122ms/step - loss: 0.0790 - accuracy: 0.9689 - val_loss: 0.0250 - val_accuracy: 0.9926\n",
      "Epoch 6/10\n",
      "114/114 [==============================] - 14s 121ms/step - loss: 0.0927 - accuracy: 0.9700 - val_loss: 0.1058 - val_accuracy: 0.9653\n",
      "Epoch 7/10\n",
      "114/114 [==============================] - 14s 122ms/step - loss: 0.1077 - accuracy: 0.9611 - val_loss: 0.0662 - val_accuracy: 0.9777\n",
      "Epoch 8/10\n",
      "114/114 [==============================] - 14s 123ms/step - loss: 0.1191 - accuracy: 0.9584 - val_loss: 1.0153 - val_accuracy: 0.8213\n",
      "Epoch 9/10\n",
      "114/114 [==============================] - 14s 125ms/step - loss: 0.0921 - accuracy: 0.9661 - val_loss: 0.0326 - val_accuracy: 0.9876\n",
      "Epoch 10/10\n",
      "114/114 [==============================] - 14s 126ms/step - loss: 0.0731 - accuracy: 0.9760 - val_loss: 0.0713 - val_accuracy: 0.9752\n",
      "Epoch 1/10\n",
      "114/114 [==============================] - 15s 127ms/step - loss: 0.0996 - accuracy: 0.9639 - val_loss: 0.0899 - val_accuracy: 0.9727\n",
      "Epoch 2/10\n",
      "114/114 [==============================] - 15s 132ms/step - loss: 0.0851 - accuracy: 0.9675 - val_loss: 0.0433 - val_accuracy: 0.9901\n",
      "Epoch 3/10\n",
      "114/114 [==============================] - 15s 131ms/step - loss: 0.0866 - accuracy: 0.9675 - val_loss: 0.1490 - val_accuracy: 0.9404\n",
      "Epoch 4/10\n",
      "114/114 [==============================] - 15s 131ms/step - loss: 0.0923 - accuracy: 0.9686 - val_loss: 0.0326 - val_accuracy: 0.9851\n",
      "Epoch 5/10\n",
      "114/114 [==============================] - 15s 131ms/step - loss: 0.0854 - accuracy: 0.9694 - val_loss: 0.0773 - val_accuracy: 0.9702\n",
      "Epoch 6/10\n",
      "114/114 [==============================] - 15s 130ms/step - loss: 0.0625 - accuracy: 0.9791 - val_loss: 0.0963 - val_accuracy: 0.9677\n",
      "Epoch 7/10\n",
      "114/114 [==============================] - 15s 130ms/step - loss: 0.0613 - accuracy: 0.9782 - val_loss: 0.0276 - val_accuracy: 0.9926\n",
      "Epoch 8/10\n",
      "114/114 [==============================] - 15s 130ms/step - loss: 0.0649 - accuracy: 0.9774 - val_loss: 0.3359 - val_accuracy: 0.8834\n",
      "Epoch 9/10\n",
      "114/114 [==============================] - 15s 129ms/step - loss: 0.0595 - accuracy: 0.9804 - val_loss: 0.2748 - val_accuracy: 0.9057\n",
      "Epoch 10/10\n",
      "114/114 [==============================] - 15s 128ms/step - loss: 0.0584 - accuracy: 0.9788 - val_loss: 0.0527 - val_accuracy: 0.9901\n",
      "Epoch 1/10\n",
      "114/114 [==============================] - 15s 130ms/step - loss: 0.2620 - accuracy: 0.9209 - val_loss: 0.3553 - val_accuracy: 0.8734\n",
      "Epoch 2/10\n",
      "114/114 [==============================] - 14s 127ms/step - loss: 0.2057 - accuracy: 0.9308 - val_loss: 0.0570 - val_accuracy: 0.9851\n",
      "Epoch 3/10\n",
      "114/114 [==============================] - 15s 128ms/step - loss: 0.0865 - accuracy: 0.9700 - val_loss: 0.0381 - val_accuracy: 0.9901\n",
      "Epoch 4/10\n",
      "114/114 [==============================] - 14s 127ms/step - loss: 0.0645 - accuracy: 0.9774 - val_loss: 0.0355 - val_accuracy: 0.9876\n",
      "Epoch 5/10\n",
      "114/114 [==============================] - 15s 128ms/step - loss: 0.0633 - accuracy: 0.9782 - val_loss: 0.0338 - val_accuracy: 0.9926\n",
      "Epoch 6/10\n",
      "114/114 [==============================] - 15s 130ms/step - loss: 0.0605 - accuracy: 0.9802 - val_loss: 0.0580 - val_accuracy: 0.9826\n",
      "Epoch 7/10\n",
      "114/114 [==============================] - 15s 129ms/step - loss: 0.0426 - accuracy: 0.9862 - val_loss: 0.0175 - val_accuracy: 0.9975\n",
      "Epoch 8/10\n",
      "114/114 [==============================] - 15s 128ms/step - loss: 0.0573 - accuracy: 0.9804 - val_loss: 0.1444 - val_accuracy: 0.9454\n",
      "Epoch 9/10\n",
      "114/114 [==============================] - 15s 129ms/step - loss: 0.0514 - accuracy: 0.9829 - val_loss: 0.0580 - val_accuracy: 0.9777\n",
      "Epoch 10/10\n",
      "114/114 [==============================] - 15s 128ms/step - loss: 0.0539 - accuracy: 0.9791 - val_loss: 0.0289 - val_accuracy: 0.9851\n",
      "Epoch 1/10\n",
      "114/114 [==============================] - 15s 129ms/step - loss: 0.0586 - accuracy: 0.9793 - val_loss: 0.0092 - val_accuracy: 0.9975\n",
      "Epoch 2/10\n",
      "114/114 [==============================] - 15s 129ms/step - loss: 0.0552 - accuracy: 0.9804 - val_loss: 0.0207 - val_accuracy: 0.9975\n",
      "Epoch 3/10\n",
      "114/114 [==============================] - 15s 131ms/step - loss: 0.0507 - accuracy: 0.9818 - val_loss: 0.0109 - val_accuracy: 0.9975\n",
      "Epoch 4/10\n",
      "114/114 [==============================] - 15s 132ms/step - loss: 0.0625 - accuracy: 0.9807 - val_loss: 0.0445 - val_accuracy: 0.9926\n",
      "Epoch 5/10\n",
      "114/114 [==============================] - 15s 133ms/step - loss: 0.0634 - accuracy: 0.9763 - val_loss: 0.0486 - val_accuracy: 0.9851\n",
      "Epoch 6/10\n",
      "114/114 [==============================] - 15s 134ms/step - loss: 0.0674 - accuracy: 0.9771 - val_loss: 0.0321 - val_accuracy: 0.9876\n",
      "Epoch 7/10\n",
      "114/114 [==============================] - 15s 135ms/step - loss: 0.0509 - accuracy: 0.9835 - val_loss: 0.0777 - val_accuracy: 0.9975\n",
      "Epoch 8/10\n",
      "114/114 [==============================] - 15s 136ms/step - loss: 0.0425 - accuracy: 0.9857 - val_loss: 0.0340 - val_accuracy: 0.9950\n",
      "Epoch 9/10\n",
      "114/114 [==============================] - 15s 136ms/step - loss: 0.0596 - accuracy: 0.9791 - val_loss: 0.0386 - val_accuracy: 0.9901\n",
      "Epoch 10/10\n",
      "114/114 [==============================] - 15s 136ms/step - loss: 0.0569 - accuracy: 0.9826 - val_loss: 0.0157 - val_accuracy: 0.9975\n"
     ]
    }
   ],
   "source": [
    "from sklearn.model_selection import StratifiedKFold\n",
    "folds = StratifiedKFold(n_splits=10, shuffle=True)\n",
    "import matplotlib.pyplot as plt\n",
    "\n",
    "for train_idx, test_idx in folds.split(X_train,y_train):\n",
    "    X_tr, X_te, y_tr, y_te = X_train[train_idx], X_train[test_idx], \\\n",
    "                                       y_train[train_idx], y_train[test_idx]\n",
    "    history = cnn.fit(X_tr,y_tr,epochs=10,validation_data=(X_te,y_te),batch_size=32,verbose=1)"
   ]
  },
  {
   "cell_type": "code",
   "execution_count": 8,
   "id": "41134927",
   "metadata": {},
   "outputs": [
    {
     "name": "stdout",
     "output_type": "stream",
     "text": [
      "(1008, 100, 100, 3)\n",
      "(1008,)\n"
     ]
    }
   ],
   "source": [
    "X_test = np.array(X_test)\n",
    "print(X_test.shape)\n",
    "print(y_test.shape)"
   ]
  },
  {
   "cell_type": "code",
   "execution_count": 9,
   "id": "0154f9d3",
   "metadata": {},
   "outputs": [
    {
     "name": "stdout",
     "output_type": "stream",
     "text": [
      "32/32 [==============================] - 1s 41ms/step - loss: 1.0484 - accuracy: 0.7639\n"
     ]
    },
    {
     "data": {
      "text/plain": [
       "[1.0483533143997192, 0.763888955116272]"
      ]
     },
     "execution_count": 9,
     "metadata": {},
     "output_type": "execute_result"
    }
   ],
   "source": [
    "cnn.evaluate(X_test,y_test)"
   ]
  },
  {
   "cell_type": "code",
   "execution_count": 10,
   "id": "bb9c8d48",
   "metadata": {},
   "outputs": [
    {
     "data": {
      "text/plain": [
       "array([[4.0626351e-06, 3.6920602e-03, 4.1220972e-01, 4.4501298e-06,\n",
       "        5.8374107e-01, 2.4682184e-04, 1.0186393e-04],\n",
       "       [9.4653213e-01, 4.8008502e-02, 3.3285224e-03, 1.6339168e-04,\n",
       "        1.9560028e-03, 1.1025463e-05, 4.5339178e-07],\n",
       "       [6.0235018e-01, 1.4245377e-01, 8.1686033e-03, 6.1388563e-02,\n",
       "        1.8261652e-01, 3.0223192e-03, 1.1634156e-07],\n",
       "       [2.8057357e-03, 9.9709404e-01, 1.9821395e-07, 7.3218366e-06,\n",
       "        4.2237050e-05, 6.6545299e-06, 4.3752825e-05],\n",
       "       [4.8755888e-09, 1.9358063e-06, 3.3065287e-08, 3.4293013e-10,\n",
       "        4.3313971e-06, 2.9016840e-07, 9.9999344e-01]], dtype=float32)"
      ]
     },
     "execution_count": 10,
     "metadata": {},
     "output_type": "execute_result"
    }
   ],
   "source": [
    "y_pred = cnn.predict(X_test)\n",
    "y_pred[:5]"
   ]
  },
  {
   "cell_type": "code",
   "execution_count": 11,
   "id": "6e1d397f",
   "metadata": {},
   "outputs": [
    {
     "data": {
      "text/plain": [
       "[4, 0, 0, 1, 6]"
      ]
     },
     "execution_count": 11,
     "metadata": {},
     "output_type": "execute_result"
    }
   ],
   "source": [
    "y_classes = [np.argmax(element) for element in y_pred]\n",
    "y_classes[:5]"
   ]
  },
  {
   "cell_type": "code",
   "execution_count": 12,
   "id": "2271e3a8",
   "metadata": {},
   "outputs": [
    {
     "name": "stdout",
     "output_type": "stream",
     "text": [
      "Classification Report(K-fold): \n",
      "               precision    recall  f1-score   support\n",
      "\n",
      "           0       0.53      0.83      0.65       144\n",
      "           1       0.76      0.70      0.73       144\n",
      "           2       0.65      0.51      0.57       144\n",
      "           3       0.93      0.76      0.84       144\n",
      "           4       0.71      0.62      0.66       144\n",
      "           5       0.91      0.97      0.94       144\n",
      "           6       0.97      0.97      0.97       144\n",
      "\n",
      "    accuracy                           0.76      1008\n",
      "   macro avg       0.78      0.76      0.76      1008\n",
      "weighted avg       0.78      0.76      0.76      1008\n",
      "\n"
     ]
    }
   ],
   "source": [
    "from sklearn.metrics import confusion_matrix , classification_report\n",
    "import numpy as np\n",
    "y_pred = cnn.predict(X_test)\n",
    "y_pred_classes = [np.argmax(element) for element in y_pred]\n",
    "\n",
    "print(\"Classification Report(K-fold): \\n\", classification_report(y_test, y_pred_classes))"
   ]
  },
  {
   "cell_type": "code",
   "execution_count": 13,
   "id": "8c765f66",
   "metadata": {},
   "outputs": [
    {
     "data": {
      "text/plain": [
       "Text(69.0, 0.5, 'Truth')"
      ]
     },
     "execution_count": 13,
     "metadata": {},
     "output_type": "execute_result"
    },
    {
     "data": {
      "image/png": "[encoded data removed]",
      "text/plain": [
       "<Figure size 720x504 with 2 Axes>"
      ]
     },
     "metadata": {
      "needs_background": "light"
     },
     "output_type": "display_data"
    }
   ],
   "source": [
    "import seaborn as sn\n",
    "cm = tf.math.confusion_matrix(labels=y_test,predictions=y_classes)\n",
    "\n",
    "plt.figure(figsize = (10,7))\n",
    "sn.heatmap(cm, annot=True, fmt='d')\n",
    "plt.xlabel('Predicted')\n",
    "plt.ylabel('Truth')"
   ]
  },
  {
   "cell_type": "code",
   "execution_count": null,
   "id": "dd4fd3d4",
   "metadata": {},
   "outputs": [],
   "source": []
  }
 ],
 "metadata": {
  "kernelspec": {
   "display_name": "Python 3",
   "language": "python",
   "name": "python3"
  },
  "language_info": {
   "codemirror_mode": {
    "name": "ipython",
    "version": 3
   },
   "file_extension": ".py",
   "mimetype": "text/x-python",
   "name": "python",
   "nbconvert_exporter": "python",
   "pygments_lexer": "ipython3",
   "version": "3.9.7"
  }
 },
 "nbformat": 4,
 "nbformat_minor": 5
}
